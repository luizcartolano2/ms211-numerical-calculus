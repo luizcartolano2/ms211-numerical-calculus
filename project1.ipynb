{
 "cells": [
  {
   "cell_type": "markdown",
   "metadata": {},
   "source": [
    "# Projeto 1 - MS211 - Calculo Numérico\n",
    "\n",
    "### Aluno:\n",
    "Luiz Eduardo Cartolano - RA: 183012\n",
    "\n",
    "### Professor:\n",
    "Maicon R. Correa\n",
    "\n",
    "### Github Link:\n",
    "[Project Repository](https://github.com/luizcartolano2/ms211-numerical-calculus)\n",
    "\n"
   ]
  },
  {
   "cell_type": "markdown",
   "metadata": {},
   "source": [
    "# Primeira Questão\n",
    "Projeto 1 - Método de Newton Discreto, do livro Cálculo Numérico, Ruggiero-Lopes, 2a Ed, (p. 206)."
   ]
  },
  {
   "cell_type": "code",
   "execution_count": 2,
   "metadata": {},
   "outputs": [],
   "source": [
    "# import das librarys usadas\n",
    "import numpy as np"
   ]
  },
  {
   "cell_type": "markdown",
   "metadata": {},
   "source": [
    "### Função de Rosenbrock - F(x)\n",
    "\n",
    "A primeira questão envolve resolver a função de Rosenbrock usando duas versões do método de Newton, o tradicional e o modificado. A função de Rosenbrock é dada pelo seguinte sistema:\n",
    "\\begin{align}\n",
    "    - 10 \\cdot (x_1)^2 + 10 \\cdot x_2 = 0 \\\\\n",
    "    1 - x_1 = 0\n",
    "\\end{align}\n",
    "\n",
    "A função pode ser definida em python do seguinte modo:"
   ]
  },
  {
   "cell_type": "code",
   "execution_count": 3,
   "metadata": {},
   "outputs": [],
   "source": [
    "def F(x):\n",
    "    return np.array(\n",
    "        [[-10 * x[0][0] ** 2 + 10 * x[0][1],\n",
    "        1 - x[0][0]]]\n",
    "    ).reshape(2,)"
   ]
  },
  {
   "cell_type": "markdown",
   "metadata": {},
   "source": [
    "### Jacobiana - J(x)\n",
    "A fim de não ser preciso calcular a Jacobiana, que é definida como:\n",
    "\n",
    "\\begin{equation*}\n",
    "    \\mathbf{J} =  \\begin{vmatrix}\n",
    "        \\frac{\\partial f_1(x)}{\\partial x_1} &  \\frac{\\partial f_1(x)}{\\partial x_2} \\\\\n",
    "        \\frac{\\partial f_2(x)}{\\partial x_1} &  \\frac{\\partial f_2(x)}{\\partial x_2} \n",
    "    \\end{vmatrix}\n",
    "\\end{equation*}\n",
    "\n",
    "O método de Newton Discreto realiza uma aproximação, que calcula a jacobiana a partir de um método discreto, para isso, é preciso definir primeiro:\n",
    "\n",
    "\\begin{equation*}\n",
    "    e_j = (0,0,...1,0,0,...0)^T\n",
    "\\end{equation*}\n",
    "onde a posição $j$ tem o valor 1. E a coluna $j$ da jacobiana será dada por:\n",
    "\n",
    "\\begin{equation*}\n",
    "    \\frac{\\mathbf{F}(x + he_j) - \\mathbf{F}(x)}{h}\n",
    "\\end{equation*}\n",
    "\n",
    "A duas funções seguintes foram capaz de implementar a jacobiana utilizando Python."
   ]
  },
  {
   "cell_type": "code",
   "execution_count": 4,
   "metadata": {},
   "outputs": [],
   "source": [
    "def e_(j, size):\n",
    "    e_t = np.zeros((size,1))\n",
    "    e_t[j] = 1\n",
    "    \n",
    "    return e_t"
   ]
  },
  {
   "cell_type": "code",
   "execution_count": 5,
   "metadata": {},
   "outputs": [],
   "source": [
    "def J(x, h):\n",
    "    f_1 = ((F(x + e_(0,2).T * h) - F(x)).T)/h\n",
    "    f_2 = ((F(x + e_(1,2).T * h) - F(x)).T)/h\n",
    "    \n",
    "    return np.column_stack((f_1, f_2))"
   ]
  },
  {
   "cell_type": "markdown",
   "metadata": {},
   "source": [
    "### Método de Newton\n",
    "\n",
    "O método de Newton consiste em, dado o ponto $x^{(k)}$, a matriz $J(x^{(k)})$ é obtida avaliando-se $J(x)$ em $x^{(k)}$ e, em seguida, o passo de Newton, $s^{(k)}$, é obtido a partir da resolução do sistema linear, $J(x^{(k)})s = -F(x^{(k)})$. Portanto, uma iteração de Newton requer que:\n",
    "\n",
    "1. a avaliação da matriz Jacobiana em $x^{(k)}$\n",
    "2. a resolução do sistema linear $J(x^{(k)})s = -F(x^{(k)})$\n",
    "\n",
    "O algoritmo do método de Newton é dado por:\n",
    "\n",
    "Dados $x_0$, $\\epsilon_1 > 0$ e $\\epsilon_2 > 0$:\n",
    "\n",
    "1. calcule $F(x^{(k)})$ e $J(x^{(k)})$\n",
    "2. se $|F(x^{(k)})| < \\epsilon_1$, faça $\\bar{x} = x^{(k)}$ e pare\n",
    "3. obtenha $s^{(k)}$, a solução do sistema linear $J(x^{(k)})s = -F(x^{(k)})$\n",
    "4. faça: $x^{(k+1)} = x^{(k)} + s^{(k)}$\n",
    "\n",
    "\n",
    "Abaixo segue a implementação do método em Python."
   ]
  },
  {
   "cell_type": "code",
   "execution_count": 19,
   "metadata": {},
   "outputs": [],
   "source": [
    "def newton(F, J, x0, h, e1=1e-4, e2=1e-4):\n",
    "    counter = 0\n",
    "    x = x0\n",
    "    if abs(np.max(F(x))) < e1:\n",
    "        return x0\n",
    "    s = np.linalg.solve(J(x,h),-F(x))\n",
    "    xk = x + s\n",
    "    \n",
    "    while abs(np.max(F(x))) >= e1:\n",
    "        counter = counter + 1\n",
    "        x = xk\n",
    "        s = np.linalg.solve(J(x,h),-F(x))\n",
    "        xk = x + s\n",
    "    \n",
    "    return xk, counter"
   ]
  },
  {
   "cell_type": "markdown",
   "metadata": {},
   "source": [
    "### Método de Newton Modificado\n",
    "\n",
    "A alteração feita para o método de Newton consiste em tomar a cada iteração $k$ a matriz $J(x^{(0)})$, em vez de $J(x^{(k)})$: a partir de uma aproximação inicial $x^{(0)}$, a sequência $\\{x^{(k)}\\}$ é gerada através de $x^{(k+1)} = x^{(k)} + s^{(k)}$, onde $s^{(k)}$ é a solução do sistema linear: \n",
    "\n",
    "\\begin{equation*}\n",
    "    J(x^{(0)})s = -F(x^{(k)})\n",
    "\\end{equation*}\n",
    "\n",
    "Desta forma, a matriz Jacobiana é avaliada apenas uma vez e, para todo $k$, o sistema linear a ser resolvido terá a mesma matriz Jacobiana. A implementação em Python pode ser feita, com poucas alterações para a função anterior, como mostrado abaixo."
   ]
  },
  {
   "cell_type": "code",
   "execution_count": 32,
   "metadata": {},
   "outputs": [],
   "source": [
    "def newton_modificado(F, J, x0, h, e1=1e-10, e2=1e-4):\n",
    "    counter = 0\n",
    "    x = x0\n",
    "    if abs(np.max(F(x))) < e1:\n",
    "        return x0\n",
    "    \n",
    "    J_ = J(x,h)\n",
    "    s = np.linalg.solve(J_,-F(x))\n",
    "    xk = x + s\n",
    "    \n",
    "    while abs(np.max(F(x))) >= e1: # and abs(np.max(xk-x)) >= e2:\n",
    "        counter = counter + 1\n",
    "        x = xk\n",
    "        s = np.linalg.solve(J_,-F(x))\n",
    "        xk = x + s\n",
    "    \n",
    "    return xk, counter"
   ]
  },
  {
   "cell_type": "markdown",
   "metadata": {},
   "source": [
    "A seguir a solução do sistema para $h = 10^{-2}$ usando o método de Newton tradicional."
   ]
  },
  {
   "cell_type": "code",
   "execution_count": 47,
   "metadata": {},
   "outputs": [
    {
     "name": "stdout",
     "output_type": "stream",
     "text": [
      "A solução para equação é dada por: (1.0,0.9999999999999325), e foram precisas 1 iterações.\n"
     ]
    }
   ],
   "source": [
    "x, iter_ = newton(F=F, J=J, x0=np.array([[-1.2, 1]]), h=1e-2)\n",
    "print(\"A solução para equação é dada por: ({},{}), e foram precisas {} iterações.\".format(x[0][0],x[0][1],iter_))"
   ]
  },
  {
   "cell_type": "markdown",
   "metadata": {},
   "source": [
    "A seguir a solução do sistema para $h = 10^{-5}$ usando o método de Newton tradicional."
   ]
  },
  {
   "cell_type": "code",
   "execution_count": 49,
   "metadata": {},
   "outputs": [
    {
     "name": "stdout",
     "output_type": "stream",
     "text": [
      "A solução para equação é dada por: (0.9999999999999998,1.0000000001832312), e foram precisas 1 iterações.\n"
     ]
    }
   ],
   "source": [
    "x, iter_ = newton(F=F, J=J, x0=np.array([[-1.2, 1]]), h=1e-5)\n",
    "print(\"A solução para equação é dada por: ({},{}), e foram precisas {} iterações.\".format(x[0][0],x[0][1],iter_))"
   ]
  },
  {
   "cell_type": "markdown",
   "metadata": {},
   "source": [
    "A seguir a solução do sistema para $h = 10^{-2}$ usando o método de Newton modificado."
   ]
  },
  {
   "cell_type": "code",
   "execution_count": 48,
   "metadata": {},
   "outputs": [
    {
     "name": "stdout",
     "output_type": "stream",
     "text": [
      "A solução para equação é dada por: (0.9999999999999997,0.9999999999997948), e foram precisas 1 iterações.\n"
     ]
    }
   ],
   "source": [
    "x, iter_ = newton_modificado(F=F, J=J, x0=np.array([[-1.2, 1]]), h=1e-2)\n",
    "print(\"A solução para equação é dada por: ({},{}), e foram precisas {} iterações.\".format(x[0][0],x[0][1],iter_))"
   ]
  },
  {
   "cell_type": "markdown",
   "metadata": {},
   "source": [
    "A seguir a solução do sistema para $h = 10^{-5}$ usando o método de Newton modificado."
   ]
  },
  {
   "cell_type": "code",
   "execution_count": 50,
   "metadata": {},
   "outputs": [
    {
     "name": "stdout",
     "output_type": "stream",
     "text": [
      "A solução para equação é dada por: (1.0,0.9999999999999984), e foram precisas 2 iterações.\n"
     ]
    }
   ],
   "source": [
    "x, iter_ = newton_modificado(F=F, J=J, x0=np.array([[-1.2, 1]]), h=1e-5)\n",
    "print(\"A solução para equação é dada por: ({},{}), e foram precisas {} iterações.\".format(x[0][0],x[0][1],iter_))"
   ]
  },
  {
   "cell_type": "markdown",
   "metadata": {},
   "source": [
    "# Segunda Questão"
   ]
  },
  {
   "cell_type": "code",
   "execution_count": null,
   "metadata": {},
   "outputs": [],
   "source": []
  }
 ],
 "metadata": {
  "kernelspec": {
   "display_name": "Python 3",
   "language": "python",
   "name": "python3"
  },
  "language_info": {
   "codemirror_mode": {
    "name": "ipython",
    "version": 3
   },
   "file_extension": ".py",
   "mimetype": "text/x-python",
   "name": "python",
   "nbconvert_exporter": "python",
   "pygments_lexer": "ipython3",
   "version": "3.7.4"
  }
 },
 "nbformat": 4,
 "nbformat_minor": 4
}
