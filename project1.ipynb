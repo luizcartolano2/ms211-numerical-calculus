{
 "cells": [
  {
   "cell_type": "code",
   "execution_count": 1,
   "metadata": {},
   "outputs": [],
   "source": [
    "import numpy as np"
   ]
  },
  {
   "cell_type": "code",
   "execution_count": 2,
   "metadata": {},
   "outputs": [],
   "source": [
    "def F(x):\n",
    "    return np.array(\n",
    "        [[-10 * x[0][0] ** 2 + 10 * x[0][1],\n",
    "        1 - x[0][0]]]\n",
    "    ).reshape(2,)"
   ]
  },
  {
   "cell_type": "code",
   "execution_count": 3,
   "metadata": {},
   "outputs": [],
   "source": [
    "def e_(j, size):\n",
    "    e_t = np.zeros((size,1))\n",
    "    e_t[j] = 1\n",
    "    \n",
    "    return e_t"
   ]
  },
  {
   "cell_type": "code",
   "execution_count": 68,
   "metadata": {},
   "outputs": [],
   "source": [
    "def J(x, h):\n",
    "    f_1 = ((F(x + e_(0,2).T * h) - F(x)).T)/h\n",
    "    f_2 = ((F(x + e_(1,2).T * h) - F(x)).T)/h\n",
    "    \n",
    "    return np.column_stack((f_1, f_2))"
   ]
  },
  {
   "cell_type": "code",
   "execution_count": 69,
   "metadata": {},
   "outputs": [],
   "source": [
    "def newton(F, J, x0, h, e1=1e-4, e2=1e-4):\n",
    "    x = x0\n",
    "    if abs(np.max(F(x))) < e1:\n",
    "        return x0\n",
    "    s = np.linalg.solve(J(x,h),-F(x))\n",
    "    xk = x + s\n",
    "    \n",
    "    while abs(np.max(F(x))) >= e1 and abs(np.max(xk-x)) >= e2:\n",
    "        x = xk\n",
    "        s = np.linalg.solve(J(x,h),-F(x))\n",
    "        xk = x + s\n",
    "    \n",
    "    return xk"
   ]
  },
  {
   "cell_type": "markdown",
   "metadata": {},
   "source": [
    "### Função de Rosenbrock:\n",
    "\\begin{align}\n",
    "    - 10 \\cdot (x_1)^2 + 10 \\cdot x_2 = 0 \\\\\n",
    "    1 - x_1 = 0\n",
    "\\end{align}"
   ]
  },
  {
   "cell_type": "code",
   "execution_count": 67,
   "metadata": {},
   "outputs": [
    {
     "data": {
      "text/plain": [
       "array([-4.4,  2.2])"
      ]
     },
     "execution_count": 67,
     "metadata": {},
     "output_type": "execute_result"
    }
   ],
   "source": [
    "F(np.array([[-1.2, 1]]))"
   ]
  },
  {
   "cell_type": "code",
   "execution_count": 70,
   "metadata": {},
   "outputs": [
    {
     "data": {
      "text/plain": [
       "array([[1., 1.]])"
      ]
     },
     "execution_count": 70,
     "metadata": {},
     "output_type": "execute_result"
    }
   ],
   "source": [
    "newton(F, J, np.array([[-1.2, 1]]), 1e-2)"
   ]
  },
  {
   "cell_type": "code",
   "execution_count": null,
   "metadata": {},
   "outputs": [],
   "source": []
  }
 ],
 "metadata": {
  "kernelspec": {
   "display_name": "Python 3",
   "language": "python",
   "name": "python3"
  },
  "language_info": {
   "codemirror_mode": {
    "name": "ipython",
    "version": 3
   },
   "file_extension": ".py",
   "mimetype": "text/x-python",
   "name": "python",
   "nbconvert_exporter": "python",
   "pygments_lexer": "ipython3",
   "version": "3.7.4"
  }
 },
 "nbformat": 4,
 "nbformat_minor": 4
}
