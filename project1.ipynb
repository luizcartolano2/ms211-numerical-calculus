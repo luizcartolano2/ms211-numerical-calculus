{
 "cells": [
  {
   "cell_type": "markdown",
   "metadata": {},
   "source": [
    "# Projeto 1 - MS211 - Calculo Numérico\n",
    "\n",
    "### Aluno:\n",
    "Luiz Eduardo Cartolano - RA: 183012\n",
    "\n",
    "### Professor:\n",
    "Maicon R. Correa\n",
    "\n",
    "### Github Link:\n",
    "[Project Repository](https://github.com/luizcartolano2/ms211-numerical-calculus)\n",
    "\n"
   ]
  },
  {
   "cell_type": "markdown",
   "metadata": {},
   "source": [
    "# Primeira Questão\n",
    "Projeto 1 - Método de Newton Discreto, do livro Cálculo Numérico, Ruggiero-Lopes, 2a Ed, (p. 206)."
   ]
  },
  {
   "cell_type": "code",
   "execution_count": 1,
   "metadata": {},
   "outputs": [
    {
     "data": {
      "text/html": [
       "        <script type=\"text/javascript\">\n",
       "        window.PlotlyConfig = {MathJaxConfig: 'local'};\n",
       "        if (window.MathJax) {MathJax.Hub.Config({SVG: {font: \"STIX-Web\"}});}\n",
       "        if (typeof require !== 'undefined') {\n",
       "        require.undef(\"plotly\");\n",
       "        requirejs.config({\n",
       "            paths: {\n",
       "                'plotly': ['https://cdn.plot.ly/plotly-latest.min']\n",
       "            }\n",
       "        });\n",
       "        require(['plotly'], function(Plotly) {\n",
       "            window._Plotly = Plotly;\n",
       "        });\n",
       "        }\n",
       "        </script>\n",
       "        "
      ]
     },
     "metadata": {},
     "output_type": "display_data"
    },
    {
     "data": {
      "text/html": [
       "        <script type=\"text/javascript\">\n",
       "        window.PlotlyConfig = {MathJaxConfig: 'local'};\n",
       "        if (window.MathJax) {MathJax.Hub.Config({SVG: {font: \"STIX-Web\"}});}\n",
       "        if (typeof require !== 'undefined') {\n",
       "        require.undef(\"plotly\");\n",
       "        requirejs.config({\n",
       "            paths: {\n",
       "                'plotly': ['https://cdn.plot.ly/plotly-latest.min']\n",
       "            }\n",
       "        });\n",
       "        require(['plotly'], function(Plotly) {\n",
       "            window._Plotly = Plotly;\n",
       "        });\n",
       "        }\n",
       "        </script>\n",
       "        "
      ]
     },
     "metadata": {},
     "output_type": "display_data"
    }
   ],
   "source": [
    "# import das librarys usadas\n",
    "import numpy as np\n",
    "import pandas as pd\n",
    "\n",
    "# Standard plotly imports\n",
    "import plotly.plotly as py\n",
    "import plotly.graph_objs as go\n",
    "from plotly.offline import iplot, init_notebook_mode\n",
    "\n",
    "# Using plotly + cufflinks in offline mode\n",
    "import cufflinks\n",
    "cufflinks.go_offline(connected=True)\n",
    "init_notebook_mode(connected=True)"
   ]
  },
  {
   "cell_type": "markdown",
   "metadata": {},
   "source": [
    "### Função de Rosenbrock - F(x)\n",
    "\n",
    "A primeira questão envolve resolver a função de Rosenbrock usando duas versões do método de Newton, o tradicional e o modificado. A função de Rosenbrock é dada pelo seguinte sistema:\n",
    "\\begin{align}\n",
    "    - 10 \\cdot (x_1)^2 + 10 \\cdot x_2 = 0 \\\\\n",
    "    1 - x_1 = 0\n",
    "\\end{align}\n",
    "\n",
    "A função pode ser definida em python do seguinte modo:"
   ]
  },
  {
   "cell_type": "code",
   "execution_count": 2,
   "metadata": {},
   "outputs": [],
   "source": [
    "def F(x):\n",
    "    return np.array(\n",
    "        [[-10 * x[0][0] ** 2 + 10 * x[0][1],\n",
    "        1 - x[0][0]]]\n",
    "    ).reshape(2,)"
   ]
  },
  {
   "cell_type": "markdown",
   "metadata": {},
   "source": [
    "### Jacobiana - J(x)\n",
    "A fim de não ser preciso calcular a Jacobiana, que é definida como:\n",
    "\n",
    "\\begin{equation*}\n",
    "    \\mathbf{J} =  \\begin{vmatrix}\n",
    "        \\frac{\\partial f_1(x)}{\\partial x_1} &  \\frac{\\partial f_1(x)}{\\partial x_2} \\\\\n",
    "        \\frac{\\partial f_2(x)}{\\partial x_1} &  \\frac{\\partial f_2(x)}{\\partial x_2} \n",
    "    \\end{vmatrix}\n",
    "\\end{equation*}\n",
    "\n",
    "O método de Newton Discreto realiza uma aproximação, que calcula a jacobiana a partir de um método discreto, para isso, é preciso definir primeiro:\n",
    "\n",
    "\\begin{equation*}\n",
    "    e_j = (0,0,...1,0,0,...0)^T\n",
    "\\end{equation*}\n",
    "onde a posição $j$ tem o valor 1. E a coluna $j$ da jacobiana será dada por:\n",
    "\n",
    "\\begin{equation*}\n",
    "    \\frac{\\mathbf{F}(x + he_j) - \\mathbf{F}(x)}{h}\n",
    "\\end{equation*}\n",
    "\n",
    "A duas funções seguintes foram capaz de implementar a jacobiana utilizando Python."
   ]
  },
  {
   "cell_type": "code",
   "execution_count": 3,
   "metadata": {},
   "outputs": [],
   "source": [
    "def e_(j, size):\n",
    "    e_t = np.zeros((size,1))\n",
    "    e_t[j] = 1\n",
    "    \n",
    "    return e_t"
   ]
  },
  {
   "cell_type": "code",
   "execution_count": 4,
   "metadata": {},
   "outputs": [],
   "source": [
    "def J(x, h):\n",
    "    f_1 = ((F(x + e_(0,2).T * h) - F(x)).T)/h\n",
    "    f_2 = ((F(x + e_(1,2).T * h) - F(x)).T)/h\n",
    "    \n",
    "    return np.column_stack((f_1, f_2))"
   ]
  },
  {
   "cell_type": "markdown",
   "metadata": {},
   "source": [
    "### Método de Newton\n",
    "\n",
    "O método de Newton consiste em, dado o ponto $x^{(k)}$, a matriz $J(x^{(k)})$ é obtida avaliando-se $J(x)$ em $x^{(k)}$ e, em seguida, o passo de Newton, $s^{(k)}$, é obtido a partir da resolução do sistema linear, $J(x^{(k)})s = -F(x^{(k)})$. Portanto, uma iteração de Newton requer que:\n",
    "\n",
    "1. a avaliação da matriz Jacobiana em $x^{(k)}$\n",
    "2. a resolução do sistema linear $J(x^{(k)})s = -F(x^{(k)})$\n",
    "\n",
    "O algoritmo do método de Newton é dado por:\n",
    "\n",
    "Dados $x_0$, $\\epsilon_1 > 0$ e $\\epsilon_2 > 0$:\n",
    "\n",
    "1. calcule $F(x^{(k)})$ e $J(x^{(k)})$\n",
    "2. se $|F(x^{(k)})| < \\epsilon_1$, faça $\\bar{x} = x^{(k)}$ e pare\n",
    "3. obtenha $s^{(k)}$, a solução do sistema linear $J(x^{(k)})s = -F(x^{(k)})$\n",
    "4. faça: $x^{(k+1)} = x^{(k)} + s^{(k)}$\n",
    "\n",
    "\n",
    "Abaixo segue a implementação do método em Python."
   ]
  },
  {
   "cell_type": "code",
   "execution_count": 5,
   "metadata": {},
   "outputs": [],
   "source": [
    "def newton(F, J, x0, h, e1=1e-4, e2=1e-4):\n",
    "    counter = 0\n",
    "    x = x0\n",
    "    if abs(np.max(F(x))) < e1:\n",
    "        return x0\n",
    "    s = np.linalg.solve(J(x,h),-F(x))\n",
    "    xk = x + s\n",
    "    \n",
    "    while abs(np.max(F(x))) >= e1:\n",
    "        counter = counter + 1\n",
    "        x = xk\n",
    "        s = np.linalg.solve(J(x,h),-F(x))\n",
    "        xk = x + s\n",
    "    \n",
    "    return xk, counter"
   ]
  },
  {
   "cell_type": "markdown",
   "metadata": {},
   "source": [
    "### Método de Newton Modificado\n",
    "\n",
    "A alteração feita para o método de Newton consiste em tomar a cada iteração $k$ a matriz $J(x^{(0)})$, em vez de $J(x^{(k)})$: a partir de uma aproximação inicial $x^{(0)}$, a sequência $\\{x^{(k)}\\}$ é gerada através de $x^{(k+1)} = x^{(k)} + s^{(k)}$, onde $s^{(k)}$ é a solução do sistema linear: \n",
    "\n",
    "\\begin{equation*}\n",
    "    J(x^{(0)})s = -F(x^{(k)})\n",
    "\\end{equation*}\n",
    "\n",
    "Desta forma, a matriz Jacobiana é avaliada apenas uma vez e, para todo $k$, o sistema linear a ser resolvido terá a mesma matriz Jacobiana. A implementação em Python pode ser feita, com poucas alterações para a função anterior, como mostrado abaixo."
   ]
  },
  {
   "cell_type": "code",
   "execution_count": 6,
   "metadata": {},
   "outputs": [],
   "source": [
    "def newton_modificado(F, J, x0, h, e1=1e-10, e2=1e-4):\n",
    "    counter = 0\n",
    "    x = x0\n",
    "    if abs(np.max(F(x))) < e1:\n",
    "        return x0\n",
    "    \n",
    "    J_ = J(x,h)\n",
    "    s = np.linalg.solve(J_,-F(x))\n",
    "    xk = x + s\n",
    "    \n",
    "    while abs(np.max(F(x))) >= e1: # and abs(np.max(xk-x)) >= e2:\n",
    "        counter = counter + 1\n",
    "        x = xk\n",
    "        s = np.linalg.solve(J_,-F(x))\n",
    "        xk = x + s\n",
    "    \n",
    "    return xk, counter"
   ]
  },
  {
   "cell_type": "markdown",
   "metadata": {},
   "source": [
    "#### Questão 1 - Letra a\n",
    "A seguir a solução do sistema para $h = 10^{-2}$ usando o método de Newton tradicional."
   ]
  },
  {
   "cell_type": "code",
   "execution_count": 7,
   "metadata": {},
   "outputs": [
    {
     "name": "stdout",
     "output_type": "stream",
     "text": [
      "A solução para equação é dada por: (1.0,0.9999999999999325), e foram precisas 1 iterações.\n"
     ]
    }
   ],
   "source": [
    "x, iter_ = newton(F=F, J=J, x0=np.array([[-1.2, 1]]), h=1e-2)\n",
    "print(\"A solução para equação é dada por: ({},{}), e foram precisas {} iterações.\".format(x[0][0],x[0][1],iter_))"
   ]
  },
  {
   "cell_type": "markdown",
   "metadata": {},
   "source": [
    "#### Questão 1 - Letra b\n",
    "A seguir a solução do sistema para $h = 10^{-5}$ usando o método de Newton tradicional."
   ]
  },
  {
   "cell_type": "code",
   "execution_count": 8,
   "metadata": {},
   "outputs": [
    {
     "name": "stdout",
     "output_type": "stream",
     "text": [
      "A solução para equação é dada por: (0.9999999999999998,1.0000000001832312), e foram precisas 1 iterações.\n"
     ]
    }
   ],
   "source": [
    "x, iter_ = newton(F=F, J=J, x0=np.array([[-1.2, 1]]), h=1e-5)\n",
    "print(\"A solução para equação é dada por: ({},{}), e foram precisas {} iterações.\".format(x[0][0],x[0][1],iter_))"
   ]
  },
  {
   "cell_type": "markdown",
   "metadata": {},
   "source": [
    "#### Questão 1 - Letra c\n",
    "A seguir a solução do sistema para $h = 10^{-2}$ usando o método de Newton modificado."
   ]
  },
  {
   "cell_type": "code",
   "execution_count": 9,
   "metadata": {},
   "outputs": [
    {
     "name": "stdout",
     "output_type": "stream",
     "text": [
      "A solução para equação é dada por: (0.9999999999999997,0.9999999999997948), e foram precisas 1 iterações.\n"
     ]
    }
   ],
   "source": [
    "x, iter_ = newton_modificado(F=F, J=J, x0=np.array([[-1.2, 1]]), h=1e-2)\n",
    "print(\"A solução para equação é dada por: ({},{}), e foram precisas {} iterações.\".format(x[0][0],x[0][1],iter_))"
   ]
  },
  {
   "cell_type": "markdown",
   "metadata": {},
   "source": [
    "#### Questão 1 - Letra d\n",
    "A seguir a solução do sistema para $h = 10^{-5}$ usando o método de Newton modificado."
   ]
  },
  {
   "cell_type": "code",
   "execution_count": 10,
   "metadata": {},
   "outputs": [
    {
     "name": "stdout",
     "output_type": "stream",
     "text": [
      "A solução para equação é dada por: (1.0,0.9999999999999984), e foram precisas 2 iterações.\n"
     ]
    }
   ],
   "source": [
    "x, iter_ = newton_modificado(F=F, J=J, x0=np.array([[-1.2, 1]]), h=1e-5)\n",
    "print(\"A solução para equação é dada por: ({},{}), e foram precisas {} iterações.\".format(x[0][0],x[0][1],iter_))"
   ]
  },
  {
   "cell_type": "markdown",
   "metadata": {},
   "source": [
    "# Segunda Questão\n",
    "\n",
    "A relação entre a pressão $(p)$ o volume $(V)$ e a temperatura $(T)$ de um gás real pode ser dada por uma equação de estado na forma $p = p(V,T)$ ou\n",
    "\n",
    "\\begin{equation*}\n",
    "    \\varphi(p,V,T) = 0\n",
    "\\end{equation*}\n",
    "\n",
    "com $\\varphi(p,V,T)$ uma função não-linear obtida a partir da equação de estado. Como condição de partida usaremos podemos usar o volume ocupado por uma gás ideal, que é dado por:\n",
    "\n",
    "\\begin{equation*}\n",
    "    V_0 = \\frac{nRT}{p}\n",
    "\\end{equation*}\n",
    "\n",
    "Desse modo podemos definir as funções:\n",
    "\n",
    "\\begin{equation*}\n",
    "    \\varphi(V) = pV^3 - npV^2b + an^2V - an^3b - nRTV^2 \\\\\n",
    "    \\varphi'(V) = 3pV^2 - 2npVb + n^2a - 2nRTV\n",
    "\\end{equation*}\n",
    "\n",
    "Assim, dado $V_0$, a sequência do método de Newton é gerada pela fórmula:\n",
    "\n",
    "\\begin{equation*}\n",
    "    V_{k+1} = V_k - \\varphi(V_k) \\cdot \\varphi'(V_k)^{-1}\n",
    "\\end{equation*}"
   ]
  },
  {
   "cell_type": "markdown",
   "metadata": {},
   "source": [
    "### Volume Inicial\n",
    "O volume inicial, dado por:\n",
    "\n",
    "\\begin{equation*}\n",
    "    V_0 = \\frac{nRT}{p}\n",
    "\\end{equation*}\n",
    "\n",
    "É implementado como visto abaixo."
   ]
  },
  {
   "cell_type": "code",
   "execution_count": 11,
   "metadata": {},
   "outputs": [],
   "source": [
    "def initial_volume(pressure,n_mols,R,temperature):\n",
    "    return (n_mols * R * temperature)/pressure"
   ]
  },
  {
   "cell_type": "markdown",
   "metadata": {},
   "source": [
    "### Van der Walls\n",
    "A equação de Van der Walls, dada por:\n",
    "\n",
    "\\begin{equation*}\n",
    "    \\varphi(V) = pV^3 - npV^2b + an^2V - an^3b - nRTV^2 \\\\\n",
    "\\end{equation*}\n",
    "\n",
    "E sua derivada, dada por:\n",
    "\n",
    "\\begin{equation*}\n",
    "    \\varphi'(V) = 3pV^2 - 2npVb + n^2a - 2nRTV\n",
    "\\end{equation*}\n",
    "\n",
    "São implementadas como visto a seguir."
   ]
  },
  {
   "cell_type": "code",
   "execution_count": 12,
   "metadata": {},
   "outputs": [],
   "source": [
    "def van_der_walls(pressure, volume, n_mols, a, b, R, temperature):\n",
    "    return (pressure * (volume ** 3)) - \\\n",
    "           (n_mols * pressure * (volume ** 2) * b) + \\\n",
    "           (a * (n_mols ** 2) * volume) - \\\n",
    "           (a * (n_mols ** 3) * b) - \\\n",
    "           (n_mols * R * temperature * (volume ** 2))"
   ]
  },
  {
   "cell_type": "code",
   "execution_count": 13,
   "metadata": {},
   "outputs": [],
   "source": [
    "def derivative_van_der_walls(pressure, volume, n_mols, a, b, R, temperature):\n",
    "    return (3 * pressure * (volume ** 2)) - \\\n",
    "           (2 * n_mols * pressure * volume * b) + \\\n",
    "           ((n_mols ** 2) * a) - \\\n",
    "           (2 * n_mols * R * temperature * volume)"
   ]
  },
  {
   "cell_type": "markdown",
   "metadata": {},
   "source": [
    "### Método de Newton Escalar\n",
    "O que o método de Newton, para valores escalares, faz, na tentativa de garantir e acelerar a convergência, é escolher para função de iteração a função $\\varphi(x)$ tal que $\\varphi'(\\xi) = 0$. Então, dada a equação $f(x) = 0$ e partindo da forma geral para $\\varphi(x)$, queremos obter $A(x)$ tal que $\\varphi'(\\xi) = 0$.\n",
    "\n",
    "Analisando a equação acima, temos que, $A(x) = \\frac{-1}{f'(x)}$. E, portanto, a função de iteração do método será dada por:\n",
    "\n",
    "\\begin{equation*}\n",
    "    \\varphi(x) = x - \\frac{f(x)}{f'(x)}\n",
    "\\end{equation*}\n",
    "\n",
    "Assim, escolhido $x_0$, a sequência $\\{x_k\\}$ será determinada por:\n",
    "\n",
    "\\begin{equation*}\n",
    "    x_{k+1} = x_k - \\frac{f(x_k)}{f'(x_k)}\n",
    "\\end{equation*}\n",
    "\n",
    "A implementação do método pode ser vista a seguir."
   ]
  },
  {
   "cell_type": "code",
   "execution_count": 14,
   "metadata": {},
   "outputs": [],
   "source": [
    "def newton_scalar(f, Df, pressure, n_mols, a, b, R, temperature,  e=1e-10, max_iter=10**5):\n",
    "    xn = initial_volume(pressure=pressure, n_mols=n_mols, R=R, temperature=temperature)\n",
    "\n",
    "    for n in range(0,max_iter):\n",
    "        fxn = f(pressure=pressure, volume=xn, n_mols=n_mols, a=a, b=b, R=R, temperature=temperature)\n",
    "        if abs(fxn) < e:\n",
    "            return xn, n\n",
    "        Dfxn = Df(pressure=pressure, volume=xn, n_mols=n_mols, a=a, b=b, R=R, temperature=temperature)\n",
    "        if Dfxn == 0:\n",
    "            return None, -1\n",
    "        xn = xn - fxn/Dfxn\n",
    "    \n",
    "    return None, max_iter"
   ]
  },
  {
   "cell_type": "markdown",
   "metadata": {},
   "source": [
    "#### Questão 2 - Letra a - Parte 1\n",
    "Calcule o volume de um mol de gás carbônico ($n = 1$, $a = 0.3656$, $b = 4.283 × 10−5$ e  $R = 8.3144621J/K/mol$) para a Terra, onde $T=288K$ e $p=101.325 Pa$."
   ]
  },
  {
   "cell_type": "code",
   "execution_count": 15,
   "metadata": {},
   "outputs": [
    {
     "name": "stdout",
     "output_type": "stream",
     "text": [
      "O volume é dado por: 0.023522234335820087, e foram precisas 3 iterações.\n"
     ]
    }
   ],
   "source": [
    "volume, iter_ = newton_scalar(f=van_der_walls, Df=derivative_van_der_walls, pressure=101325, n_mols=1, a=0.3656, b=4.283e-5, R=8.3144621, temperature=288)\n",
    "print(\"O volume é dado por: {}, e foram precisas {} iterações.\".format(volume, iter_))"
   ]
  },
  {
   "cell_type": "markdown",
   "metadata": {},
   "source": [
    "#### Questão 2 - Letra a - Parte 2\n",
    "Calcule o volume de um mol de gás carbônico ($n = 1$, $a = 0.3656$, $b = 4.283 × 10−5$ e  $R = 8.3144621J/K/mol$) para Vênus, onde $T=734K$ e $p=9200000 Pa$."
   ]
  },
  {
   "cell_type": "code",
   "execution_count": 16,
   "metadata": {},
   "outputs": [
    {
     "name": "stdout",
     "output_type": "stream",
     "text": [
      "O volume é dado por: 0.0006489880629778, e foram precisas 3 iterações.\n"
     ]
    }
   ],
   "source": [
    "volume, iter_ = newton_scalar(f=van_der_walls, Df=derivative_van_der_walls, pressure=9200000, n_mols=1, a=0.3656, b=4.283e-5, R=8.3144621, temperature=734)\n",
    "print(\"O volume é dado por: {}, e foram precisas {} iterações.\".format(volume, iter_))"
   ]
  },
  {
   "cell_type": "markdown",
   "metadata": {},
   "source": [
    "#### Questão 2 - Letra b\n",
    "\n",
    "O fator de compressibilidade $\\mathbf{Z}$, pode ser definido como:\n",
    "\n",
    "\\begin{equation*}\n",
    "    \\mathbf{Z} = \\frac{V}{V_0} = \\frac{V}{\\frac{nRT}{p}}\n",
    "\\end{equation*}\n",
    "\n",
    "Construa gráficos plotando os valores de $\\mathbf{Z}$ do gás carbônico na Terra e em Vênus. Tome n = 1 e um intervalo $[0,1×p_{atm};10×p_{atm}]$, onde $p_{atm}$ é a respectiva pressão atmosférica, subdividido em intervalos regulares de $0,1×p_{atm}$."
   ]
  },
  {
   "cell_type": "markdown",
   "metadata": {},
   "source": [
    "#### Terra"
   ]
  },
  {
   "cell_type": "code",
   "execution_count": 17,
   "metadata": {},
   "outputs": [],
   "source": [
    "p_terra = 9200000\n",
    "p_terra_vec = np.arange(0.1*p_terra, 10*p_terra, 0.1*p_terra)"
   ]
  },
  {
   "cell_type": "code",
   "execution_count": 18,
   "metadata": {},
   "outputs": [],
   "source": [
    "volume_terra = [newton_scalar(f=van_der_walls, Df=derivative_van_der_walls, pressure=p, n_mols=1, a=0.3656, b=4.283e-5, R=8.3144621, temperature=288)[0] for p in p_terra_vec]"
   ]
  },
  {
   "cell_type": "code",
   "execution_count": 19,
   "metadata": {},
   "outputs": [],
   "source": [
    "initial_volume_terra = [initial_volume(pressure=p, n_mols=1, R=8.3144621, temperature=288) for p in p_terra_vec]"
   ]
  },
  {
   "cell_type": "code",
   "execution_count": 20,
   "metadata": {},
   "outputs": [],
   "source": [
    "Z_terra = np.array(volume_terra)/np.array(initial_volume_terra)"
   ]
  },
  {
   "cell_type": "code",
   "execution_count": 21,
   "metadata": {},
   "outputs": [],
   "source": [
    "df_terra = pd.DataFrame({'Pressure': p_terra_vec, 'Z': Z_terra})"
   ]
  },
  {
   "cell_type": "code",
   "execution_count": 30,
   "metadata": {},
   "outputs": [
    {
     "data": {
      "application/vnd.plotly.v1+json": {
       "config": {
        "linkText": "Export to plot.ly",
        "plotlyServerURL": "https://plot.ly",
        "showLink": true
       },
       "data": [
        {
         "line": {
          "color": "rgba(255, 153, 51, 1.0)",
          "dash": "solid",
          "shape": "linear",
          "width": 1.3
         },
         "marker": {
          "size": 12,
          "symbol": "circle"
         },
         "mode": "lines+markers",
         "name": "Z",
         "text": [
          920000,
          1840000,
          2760000,
          3680000,
          4600000,
          5520000,
          6440000,
          7360000,
          8280000,
          9200000,
          10120000,
          11040000,
          11960000,
          12880000,
          13800000,
          14720000,
          15640000,
          16560000,
          17480000,
          18400000,
          19320000,
          20240000,
          21160000,
          22080000,
          23000000,
          23920000,
          24840000,
          25760000,
          26680000,
          27600000,
          28520000,
          29440000,
          30360000,
          31280000,
          32200000,
          33120000,
          34040000,
          34960000,
          35880000,
          36800000,
          37720000,
          38640000,
          39560000,
          40480000,
          41400000,
          42320000,
          43240000,
          44160000,
          45080000,
          46000000,
          46920000,
          47840000,
          48760000,
          49680000,
          50600000,
          51520000,
          52440000,
          53360000,
          54280000,
          55200000,
          56120000,
          57040000,
          57960000,
          58880000,
          59800000,
          60720000,
          61640000,
          62560000,
          63480000,
          64400000,
          65320000,
          66240000,
          67160000,
          68080000,
          69000000,
          69920000,
          70840000,
          71760000,
          72680000,
          73600000,
          74520000,
          75440000,
          76360000,
          77280000,
          78200000,
          79120000,
          80040000,
          80960000,
          81880000,
          82800000,
          83720000,
          84640000,
          85560000,
          86480000,
          87400000,
          88320000,
          89240000,
          90160000,
          91080000
         ],
         "type": "scatter",
         "uid": "29b898f2-bc5a-458c-b945-90fc8e834fe1",
         "x": [
          0,
          1,
          2,
          3,
          4,
          5,
          6,
          7,
          8,
          9,
          10,
          11,
          12,
          13,
          14,
          15,
          16,
          17,
          18,
          19,
          20,
          21,
          22,
          23,
          24,
          25,
          26,
          27,
          28,
          29,
          30,
          31,
          32,
          33,
          34,
          35,
          36,
          37,
          38,
          39,
          40,
          41,
          42,
          43,
          44,
          45,
          46,
          47,
          48,
          49,
          50,
          51,
          52,
          53,
          54,
          55,
          56,
          57,
          58,
          59,
          60,
          61,
          62,
          63,
          64,
          65,
          66,
          67,
          68,
          69,
          70,
          71,
          72,
          73,
          74,
          75,
          76,
          77,
          78,
          79,
          80,
          81,
          82,
          83,
          84,
          85,
          86,
          87,
          88,
          89,
          90,
          91,
          92,
          93,
          94,
          95,
          96,
          97,
          98
         ],
         "y": [
          0.9561619973482984,
          0.908446229513633,
          0.8555415426753568,
          0.7951655714893597,
          0.7225986021991536,
          0.6238448665694128,
          0.22458747397803713,
          0.2452635836499727,
          0.26731073763728186,
          0.2897786244520447,
          0.3123507492221926,
          0.3349031967581469,
          0.35737579434470834,
          0.3797382772564804,
          0.4019878399994233,
          0.4241112420158573,
          0.4461100014980001,
          0.46798645087411933,
          0.48974388156062265,
          0.5113861675131203,
          0.532917461596068,
          0.5543419980168742,
          0.5756639707426674,
          0.5968874612498594,
          0.6180163976427944,
          0.6390545335933435,
          0.6600054397300036,
          0.6808725027657133,
          0.7016623599954877,
          0.722369597595642,
          0.7430027923726785,
          0.7635643725433312,
          0.7840567267581148,
          0.8044821755345304,
          0.8248429544025729,
          0.8451412051534525,
          0.8653789725823886,
          0.885558204850322,
          0.9056807561270355,
          0.9257483905725767,
          0.9457647913820008,
          0.9657258567042328,
          0.9856381932655572,
          1.0055021592065203,
          1.0253189422507956,
          1.0450904550147073,
          1.0648192389414264,
          1.0844982076447125,
          1.1041384483894996,
          1.1237374735714902,
          1.1432963468402715,
          1.1628160894000525,
          1.182297683019208,
          1.2017420730457082,
          1.2211501714418889,
          1.2405228598415519,
          1.259860992623096,
          1.2791653999845853,
          1.2984368910006079,
          1.3176762566364666,
          1.3368842726926786,
          1.3560617026517514,
          1.3752093003996204,
          1.3943278127956855,
          1.4134093281471396,
          1.4324687665508504,
          1.4515004680693187,
          1.4705049985814467,
          1.4894829058280108,
          1.5084347202175803,
          1.5273609555881287,
          1.5462621099275,
          1.5651386660557087,
          1.5839910922717946,
          1.6028198429677831,
          1.6216253592121022,
          1.6404080693046348,
          1.6591683893054197,
          1.6779067235388527,
          1.6966234650751004,
          1.7153189961902855,
          1.7339936888068772,
          1.7526479049155879,
          1.77128199697996,
          1.789896308324711,
          1.8084911735087983,
          1.827066918684068,
          1.8456238619402576,
          1.8641623136370378,
          1.8826825767236959,
          1.9011849470470064,
          1.9196697136477494,
          1.9381371590462992,
          1.9565875595176427,
          1.975021185356155,
          1.9934383011304024,
          2.0118391659282358,
          2.0302240335923907,
          2.048593152946799
         ]
        }
       ],
       "layout": {
        "legend": {
         "bgcolor": "#F5F6F9",
         "font": {
          "color": "#4D5663"
         }
        },
        "paper_bgcolor": "#F5F6F9",
        "plot_bgcolor": "#F5F6F9",
        "title": {
         "font": {
          "color": "#4D5663"
         },
         "text": "Relação entre a Pressão e o Fator de Compressiblidade na Terra"
        },
        "xaxis": {
         "gridcolor": "#E1E5ED",
         "showgrid": true,
         "tickfont": {
          "color": "#4D5663"
         },
         "title": {
          "font": {
           "color": "#4D5663"
          },
          "text": "Pressure"
         },
         "zerolinecolor": "#E1E5ED"
        },
        "yaxis": {
         "gridcolor": "#E1E5ED",
         "showgrid": true,
         "tickfont": {
          "color": "#4D5663"
         },
         "title": {
          "font": {
           "color": "#4D5663"
          },
          "text": "Fator de Compressibilidade"
         },
         "zerolinecolor": "#E1E5ED"
        }
       }
      },
      "text/html": [
       "<div>\n",
       "        \n",
       "        \n",
       "            <div id=\"00e58410-5152-4841-a5f8-272e4e503374\" class=\"plotly-graph-div\" style=\"height:525px; width:100%;\"></div>\n",
       "            <script type=\"text/javascript\">\n",
       "                require([\"plotly\"], function(Plotly) {\n",
       "                    window.PLOTLYENV=window.PLOTLYENV || {};\n",
       "                    window.PLOTLYENV.BASE_URL='https://plot.ly';\n",
       "                    \n",
       "                if (document.getElementById(\"00e58410-5152-4841-a5f8-272e4e503374\")) {\n",
       "                    Plotly.newPlot(\n",
       "                        '00e58410-5152-4841-a5f8-272e4e503374',\n",
       "                        [{\"line\": {\"color\": \"rgba(255, 153, 51, 1.0)\", \"dash\": \"solid\", \"shape\": \"linear\", \"width\": 1.3}, \"marker\": {\"size\": 12, \"symbol\": \"circle\"}, \"mode\": \"lines+markers\", \"name\": \"Z\", \"text\": [920000.0, 1840000.0, 2760000.0, 3680000.0, 4600000.0, 5520000.0, 6440000.0, 7360000.0, 8280000.0, 9200000.0, 10120000.0, 11040000.0, 11960000.0, 12880000.0, 13800000.0, 14720000.0, 15640000.0, 16560000.0, 17480000.0, 18400000.0, 19320000.0, 20240000.0, 21160000.0, 22080000.0, 23000000.0, 23920000.0, 24840000.0, 25760000.0, 26680000.0, 27600000.0, 28520000.0, 29440000.0, 30360000.0, 31280000.0, 32200000.0, 33120000.0, 34040000.0, 34960000.0, 35880000.0, 36800000.0, 37720000.0, 38640000.0, 39560000.0, 40480000.0, 41400000.0, 42320000.0, 43240000.0, 44160000.0, 45080000.0, 46000000.0, 46920000.0, 47840000.0, 48760000.0, 49680000.0, 50600000.0, 51520000.0, 52440000.0, 53360000.0, 54280000.0, 55200000.0, 56120000.0, 57040000.0, 57960000.0, 58880000.0, 59800000.0, 60720000.0, 61640000.0, 62560000.0, 63480000.0, 64400000.0, 65320000.0, 66240000.0, 67160000.0, 68080000.0, 69000000.0, 69920000.0, 70840000.0, 71760000.0, 72680000.0, 73600000.0, 74520000.0, 75440000.0, 76360000.0, 77280000.0, 78200000.0, 79120000.0, 80040000.0, 80960000.0, 81880000.0, 82800000.0, 83720000.0, 84640000.0, 85560000.0, 86480000.0, 87400000.0, 88320000.0, 89240000.0, 90160000.0, 91080000.0], \"type\": \"scatter\", \"uid\": \"29b898f2-bc5a-458c-b945-90fc8e834fe1\", \"x\": [0, 1, 2, 3, 4, 5, 6, 7, 8, 9, 10, 11, 12, 13, 14, 15, 16, 17, 18, 19, 20, 21, 22, 23, 24, 25, 26, 27, 28, 29, 30, 31, 32, 33, 34, 35, 36, 37, 38, 39, 40, 41, 42, 43, 44, 45, 46, 47, 48, 49, 50, 51, 52, 53, 54, 55, 56, 57, 58, 59, 60, 61, 62, 63, 64, 65, 66, 67, 68, 69, 70, 71, 72, 73, 74, 75, 76, 77, 78, 79, 80, 81, 82, 83, 84, 85, 86, 87, 88, 89, 90, 91, 92, 93, 94, 95, 96, 97, 98], \"y\": [0.9561619973482984, 0.908446229513633, 0.8555415426753568, 0.7951655714893597, 0.7225986021991536, 0.6238448665694128, 0.22458747397803713, 0.2452635836499727, 0.26731073763728186, 0.2897786244520447, 0.3123507492221926, 0.3349031967581469, 0.35737579434470834, 0.3797382772564804, 0.4019878399994233, 0.4241112420158573, 0.4461100014980001, 0.46798645087411933, 0.48974388156062265, 0.5113861675131203, 0.532917461596068, 0.5543419980168742, 0.5756639707426674, 0.5968874612498594, 0.6180163976427944, 0.6390545335933435, 0.6600054397300036, 0.6808725027657133, 0.7016623599954877, 0.722369597595642, 0.7430027923726785, 0.7635643725433312, 0.7840567267581148, 0.8044821755345304, 0.8248429544025729, 0.8451412051534525, 0.8653789725823886, 0.885558204850322, 0.9056807561270355, 0.9257483905725767, 0.9457647913820008, 0.9657258567042328, 0.9856381932655572, 1.0055021592065203, 1.0253189422507956, 1.0450904550147073, 1.0648192389414264, 1.0844982076447125, 1.1041384483894996, 1.1237374735714902, 1.1432963468402715, 1.1628160894000525, 1.182297683019208, 1.2017420730457082, 1.2211501714418889, 1.2405228598415519, 1.259860992623096, 1.2791653999845853, 1.2984368910006079, 1.3176762566364666, 1.3368842726926786, 1.3560617026517514, 1.3752093003996204, 1.3943278127956855, 1.4134093281471396, 1.4324687665508504, 1.4515004680693187, 1.4705049985814467, 1.4894829058280108, 1.5084347202175803, 1.5273609555881287, 1.5462621099275, 1.5651386660557087, 1.5839910922717946, 1.6028198429677831, 1.6216253592121022, 1.6404080693046348, 1.6591683893054197, 1.6779067235388527, 1.6966234650751004, 1.7153189961902855, 1.7339936888068772, 1.7526479049155879, 1.77128199697996, 1.789896308324711, 1.8084911735087983, 1.827066918684068, 1.8456238619402576, 1.8641623136370378, 1.8826825767236959, 1.9011849470470064, 1.9196697136477494, 1.9381371590462992, 1.9565875595176427, 1.975021185356155, 1.9934383011304024, 2.0118391659282358, 2.0302240335923907, 2.048593152946799]}],\n",
       "                        {\"legend\": {\"bgcolor\": \"#F5F6F9\", \"font\": {\"color\": \"#4D5663\"}}, \"paper_bgcolor\": \"#F5F6F9\", \"plot_bgcolor\": \"#F5F6F9\", \"title\": {\"font\": {\"color\": \"#4D5663\"}, \"text\": \"Rela\\u00e7\\u00e3o entre a Press\\u00e3o e o Fator de Compressiblidade na Terra\"}, \"xaxis\": {\"gridcolor\": \"#E1E5ED\", \"showgrid\": true, \"tickfont\": {\"color\": \"#4D5663\"}, \"title\": {\"font\": {\"color\": \"#4D5663\"}, \"text\": \"Pressure\"}, \"zerolinecolor\": \"#E1E5ED\"}, \"yaxis\": {\"gridcolor\": \"#E1E5ED\", \"showgrid\": true, \"tickfont\": {\"color\": \"#4D5663\"}, \"title\": {\"font\": {\"color\": \"#4D5663\"}, \"text\": \"Fator de Compressibilidade\"}, \"zerolinecolor\": \"#E1E5ED\"}},\n",
       "                        {\"showLink\": true, \"linkText\": \"Export to plot.ly\", \"plotlyServerURL\": \"https://plot.ly\", \"responsive\": true}\n",
       "                    ).then(function(){\n",
       "                            \n",
       "var gd = document.getElementById('00e58410-5152-4841-a5f8-272e4e503374');\n",
       "var x = new MutationObserver(function (mutations, observer) {{\n",
       "        var display = window.getComputedStyle(gd).display;\n",
       "        if (!display || display === 'none') {{\n",
       "            console.log([gd, 'removed!']);\n",
       "            Plotly.purge(gd);\n",
       "            observer.disconnect();\n",
       "        }}\n",
       "}});\n",
       "\n",
       "// Listen for the removal of the full notebook cells\n",
       "var notebookContainer = gd.closest('#notebook-container');\n",
       "if (notebookContainer) {{\n",
       "    x.observe(notebookContainer, {childList: true});\n",
       "}}\n",
       "\n",
       "// Listen for the clearing of the current output cell\n",
       "var outputEl = gd.closest('.output');\n",
       "if (outputEl) {{\n",
       "    x.observe(outputEl, {childList: true});\n",
       "}}\n",
       "\n",
       "                        })\n",
       "                };\n",
       "                });\n",
       "            </script>\n",
       "        </div>"
      ]
     },
     "metadata": {},
     "output_type": "display_data"
    }
   ],
   "source": [
    "df_terra[['Pressure', 'Z']].iplot(\n",
    "    y='Z', mode='lines+markers',\n",
    "    xTitle='Pressure', yTitle='Fator de Compressibilidade',\n",
    "    text='Pressure', title='Relação entre a Pressão e o Fator de Compressiblidade na Terra')"
   ]
  },
  {
   "cell_type": "markdown",
   "metadata": {},
   "source": [
    "#### Vênus"
   ]
  },
  {
   "cell_type": "code",
   "execution_count": 22,
   "metadata": {},
   "outputs": [],
   "source": [
    "p_venus = 101325\n",
    "p_venus_vec = np.arange(0.1*p_venus, 10*p_venus, 0.1*p_venus)"
   ]
  },
  {
   "cell_type": "code",
   "execution_count": 23,
   "metadata": {},
   "outputs": [],
   "source": [
    "volume_venus = [newton_scalar(f=van_der_walls, Df=derivative_van_der_walls, pressure=p, n_mols=1, a=0.3656, b=4.283e-5, R=8.3144621, temperature=734)[0] for p in p_venus_vec]"
   ]
  },
  {
   "cell_type": "code",
   "execution_count": 24,
   "metadata": {},
   "outputs": [],
   "source": [
    "initial_volume_venus = [initial_volume(pressure=p, n_mols=1, R=8.3144621, temperature=734) for p in p_venus_vec]"
   ]
  },
  {
   "cell_type": "code",
   "execution_count": 25,
   "metadata": {},
   "outputs": [],
   "source": [
    "Z_venus = np.array(volume_venus)/np.array(initial_volume_venus)"
   ]
  },
  {
   "cell_type": "code",
   "execution_count": 26,
   "metadata": {},
   "outputs": [],
   "source": [
    "df_venus = pd.DataFrame({'Pressure': p_terra_vec, 'Z': Z_venus})"
   ]
  },
  {
   "cell_type": "code",
   "execution_count": 31,
   "metadata": {},
   "outputs": [
    {
     "data": {
      "application/vnd.plotly.v1+json": {
       "config": {
        "linkText": "Export to plot.ly",
        "plotlyServerURL": "https://plot.ly",
        "showLink": true
       },
       "data": [
        {
         "line": {
          "color": "rgba(255, 153, 51, 1.0)",
          "dash": "solid",
          "shape": "linear",
          "width": 1.3
         },
         "marker": {
          "size": 12,
          "symbol": "circle"
         },
         "mode": "lines+markers",
         "name": "Z",
         "text": [
          920000,
          1840000,
          2760000,
          3680000,
          4600000,
          5520000,
          6440000,
          7360000,
          8280000,
          9200000,
          10120000,
          11040000,
          11960000,
          12880000,
          13800000,
          14720000,
          15640000,
          16560000,
          17480000,
          18400000,
          19320000,
          20240000,
          21160000,
          22080000,
          23000000,
          23920000,
          24840000,
          25760000,
          26680000,
          27600000,
          28520000,
          29440000,
          30360000,
          31280000,
          32200000,
          33120000,
          34040000,
          34960000,
          35880000,
          36800000,
          37720000,
          38640000,
          39560000,
          40480000,
          41400000,
          42320000,
          43240000,
          44160000,
          45080000,
          46000000,
          46920000,
          47840000,
          48760000,
          49680000,
          50600000,
          51520000,
          52440000,
          53360000,
          54280000,
          55200000,
          56120000,
          57040000,
          57960000,
          58880000,
          59800000,
          60720000,
          61640000,
          62560000,
          63480000,
          64400000,
          65320000,
          66240000,
          67160000,
          68080000,
          69000000,
          69920000,
          70840000,
          71760000,
          72680000,
          73600000,
          74520000,
          75440000,
          76360000,
          77280000,
          78200000,
          79120000,
          80040000,
          80960000,
          81880000,
          82800000,
          83720000,
          84640000,
          85560000,
          86480000,
          87400000,
          88320000,
          89240000,
          90160000,
          91080000
         ],
         "type": "scatter",
         "uid": "88181a88-cb21-4487-98b3-bc2249dd2fec",
         "x": [
          0,
          1,
          2,
          3,
          4,
          5,
          6,
          7,
          8,
          9,
          10,
          11,
          12,
          13,
          14,
          15,
          16,
          17,
          18,
          19,
          20,
          21,
          22,
          23,
          24,
          25,
          26,
          27,
          28,
          29,
          30,
          31,
          32,
          33,
          34,
          35,
          36,
          37,
          38,
          39,
          40,
          41,
          42,
          43,
          44,
          45,
          46,
          47,
          48,
          49,
          50,
          51,
          52,
          53,
          54,
          55,
          56,
          57,
          58,
          59,
          60,
          61,
          62,
          63,
          64,
          65,
          66,
          67,
          68,
          69,
          70,
          71,
          72,
          73,
          74,
          75,
          76,
          77,
          78,
          79,
          80,
          81,
          82,
          83,
          84,
          85,
          86,
          87,
          88,
          89,
          90,
          91,
          92,
          93,
          94,
          95,
          96,
          97,
          98
         ],
         "y": [
          0.9999716516888388,
          0.9999433118878476,
          0.9999149806014939,
          0.9998866578342457,
          0.9998583435905718,
          0.999830037874944,
          0.999801740691834,
          0.9997734520457163,
          0.9997451719410649,
          0.9997169003823568,
          0.9996886373740703,
          0.999660382920684,
          0.9996321370266784,
          0.999603899696536,
          0.9995756709347393,
          0.9995474507457737,
          0.9995192391341248,
          0.9994910361042805,
          0.9994628416607296,
          0.9994346558079616,
          0.9994064785504688,
          0.9993783098927436,
          0.9993501498392799,
          0.9993219983945746,
          0.9992938555631237,
          0.9992657213494258,
          0.9992375957579807,
          0.999209478793289,
          0.9991813704598537,
          0.9991532707621784,
          0.9991251797047677,
          0.9990970972921291,
          0.9990690235287696,
          0.999040958419199,
          0.9990129019679272,
          0.9989848541794666,
          0.9989568150583303,
          0.9989287846090326,
          0.9989007628360901,
          0.998872749744019,
          0.9988447453373388,
          0.998816749620569,
          0.9987887625982313,
          0.9987607842748482,
          0.9987328146549433,
          0.9987048537430423,
          0.9986769015436717,
          0.9986489580613596,
          0.998621023300635,
          0.9985930972660289,
          0.9985651799620733,
          0.9985372713933008,
          0.9985093715642469,
          0.9984814804794474,
          0.9984535981434389,
          0.9984257245607613,
          0.9983978597359527,
          0.9983700036735562,
          0.9983421563781135,
          0.9983143178541684,
          0.9982864881062664,
          0.9982586671389541,
          0.998230854956779,
          0.9982030515642906,
          0.998175256966039,
          0.9981474711665763,
          0.9981196941704559,
          0.9980919259822316,
          0.9980641666064592,
          0.9980364160476962,
          0.998008674310501,
          0.9979809413994325,
          0.9979532173190522,
          0.9979255020739219,
          0.997897795668606,
          0.9978700981076684,
          0.9978424093956759,
          0.9978147295371956,
          0.9977870585367966,
          0.997759396399049,
          0.9977317431285233,
          0.9977040987297932,
          0.9976764632074321,
          0.997648836566015,
          0.997621218810119,
          0.9975936099443213,
          0.9975660099732013,
          0.9975384189013398,
          0.9975108367333174,
          0.9974832634737179,
          0.9974556991271251,
          0.9974281436981246,
          0.9974005971913033,
          0.9973730596112492,
          0.9973455309625513,
          0.9973180112498007,
          0.997290500043768,
          0.997262998198777,
          0.997235505302969
         ]
        }
       ],
       "layout": {
        "legend": {
         "bgcolor": "#F5F6F9",
         "font": {
          "color": "#4D5663"
         }
        },
        "paper_bgcolor": "#F5F6F9",
        "plot_bgcolor": "#F5F6F9",
        "title": {
         "font": {
          "color": "#4D5663"
         },
         "text": "Relação entre a Pressão e o Fator de Compressiblidade em Vênus"
        },
        "xaxis": {
         "gridcolor": "#E1E5ED",
         "showgrid": true,
         "tickfont": {
          "color": "#4D5663"
         },
         "title": {
          "font": {
           "color": "#4D5663"
          },
          "text": "Pressure"
         },
         "zerolinecolor": "#E1E5ED"
        },
        "yaxis": {
         "gridcolor": "#E1E5ED",
         "showgrid": true,
         "tickfont": {
          "color": "#4D5663"
         },
         "title": {
          "font": {
           "color": "#4D5663"
          },
          "text": "Fator de Compressibilidade"
         },
         "zerolinecolor": "#E1E5ED"
        }
       }
      },
      "text/html": [
       "<div>\n",
       "        \n",
       "        \n",
       "            <div id=\"ed5fe42b-b5f1-4779-ac81-1e26b5d817da\" class=\"plotly-graph-div\" style=\"height:525px; width:100%;\"></div>\n",
       "            <script type=\"text/javascript\">\n",
       "                require([\"plotly\"], function(Plotly) {\n",
       "                    window.PLOTLYENV=window.PLOTLYENV || {};\n",
       "                    window.PLOTLYENV.BASE_URL='https://plot.ly';\n",
       "                    \n",
       "                if (document.getElementById(\"ed5fe42b-b5f1-4779-ac81-1e26b5d817da\")) {\n",
       "                    Plotly.newPlot(\n",
       "                        'ed5fe42b-b5f1-4779-ac81-1e26b5d817da',\n",
       "                        [{\"line\": {\"color\": \"rgba(255, 153, 51, 1.0)\", \"dash\": \"solid\", \"shape\": \"linear\", \"width\": 1.3}, \"marker\": {\"size\": 12, \"symbol\": \"circle\"}, \"mode\": \"lines+markers\", \"name\": \"Z\", \"text\": [920000.0, 1840000.0, 2760000.0, 3680000.0, 4600000.0, 5520000.0, 6440000.0, 7360000.0, 8280000.0, 9200000.0, 10120000.0, 11040000.0, 11960000.0, 12880000.0, 13800000.0, 14720000.0, 15640000.0, 16560000.0, 17480000.0, 18400000.0, 19320000.0, 20240000.0, 21160000.0, 22080000.0, 23000000.0, 23920000.0, 24840000.0, 25760000.0, 26680000.0, 27600000.0, 28520000.0, 29440000.0, 30360000.0, 31280000.0, 32200000.0, 33120000.0, 34040000.0, 34960000.0, 35880000.0, 36800000.0, 37720000.0, 38640000.0, 39560000.0, 40480000.0, 41400000.0, 42320000.0, 43240000.0, 44160000.0, 45080000.0, 46000000.0, 46920000.0, 47840000.0, 48760000.0, 49680000.0, 50600000.0, 51520000.0, 52440000.0, 53360000.0, 54280000.0, 55200000.0, 56120000.0, 57040000.0, 57960000.0, 58880000.0, 59800000.0, 60720000.0, 61640000.0, 62560000.0, 63480000.0, 64400000.0, 65320000.0, 66240000.0, 67160000.0, 68080000.0, 69000000.0, 69920000.0, 70840000.0, 71760000.0, 72680000.0, 73600000.0, 74520000.0, 75440000.0, 76360000.0, 77280000.0, 78200000.0, 79120000.0, 80040000.0, 80960000.0, 81880000.0, 82800000.0, 83720000.0, 84640000.0, 85560000.0, 86480000.0, 87400000.0, 88320000.0, 89240000.0, 90160000.0, 91080000.0], \"type\": \"scatter\", \"uid\": \"88181a88-cb21-4487-98b3-bc2249dd2fec\", \"x\": [0, 1, 2, 3, 4, 5, 6, 7, 8, 9, 10, 11, 12, 13, 14, 15, 16, 17, 18, 19, 20, 21, 22, 23, 24, 25, 26, 27, 28, 29, 30, 31, 32, 33, 34, 35, 36, 37, 38, 39, 40, 41, 42, 43, 44, 45, 46, 47, 48, 49, 50, 51, 52, 53, 54, 55, 56, 57, 58, 59, 60, 61, 62, 63, 64, 65, 66, 67, 68, 69, 70, 71, 72, 73, 74, 75, 76, 77, 78, 79, 80, 81, 82, 83, 84, 85, 86, 87, 88, 89, 90, 91, 92, 93, 94, 95, 96, 97, 98], \"y\": [0.9999716516888388, 0.9999433118878476, 0.9999149806014939, 0.9998866578342457, 0.9998583435905718, 0.999830037874944, 0.999801740691834, 0.9997734520457163, 0.9997451719410649, 0.9997169003823568, 0.9996886373740703, 0.999660382920684, 0.9996321370266784, 0.999603899696536, 0.9995756709347393, 0.9995474507457737, 0.9995192391341248, 0.9994910361042805, 0.9994628416607296, 0.9994346558079616, 0.9994064785504688, 0.9993783098927436, 0.9993501498392799, 0.9993219983945746, 0.9992938555631237, 0.9992657213494258, 0.9992375957579807, 0.999209478793289, 0.9991813704598537, 0.9991532707621784, 0.9991251797047677, 0.9990970972921291, 0.9990690235287696, 0.999040958419199, 0.9990129019679272, 0.9989848541794666, 0.9989568150583303, 0.9989287846090326, 0.9989007628360901, 0.998872749744019, 0.9988447453373388, 0.998816749620569, 0.9987887625982313, 0.9987607842748482, 0.9987328146549433, 0.9987048537430423, 0.9986769015436717, 0.9986489580613596, 0.998621023300635, 0.9985930972660289, 0.9985651799620733, 0.9985372713933008, 0.9985093715642469, 0.9984814804794474, 0.9984535981434389, 0.9984257245607613, 0.9983978597359527, 0.9983700036735562, 0.9983421563781135, 0.9983143178541684, 0.9982864881062664, 0.9982586671389541, 0.998230854956779, 0.9982030515642906, 0.998175256966039, 0.9981474711665763, 0.9981196941704559, 0.9980919259822316, 0.9980641666064592, 0.9980364160476962, 0.998008674310501, 0.9979809413994325, 0.9979532173190522, 0.9979255020739219, 0.997897795668606, 0.9978700981076684, 0.9978424093956759, 0.9978147295371956, 0.9977870585367966, 0.997759396399049, 0.9977317431285233, 0.9977040987297932, 0.9976764632074321, 0.997648836566015, 0.997621218810119, 0.9975936099443213, 0.9975660099732013, 0.9975384189013398, 0.9975108367333174, 0.9974832634737179, 0.9974556991271251, 0.9974281436981246, 0.9974005971913033, 0.9973730596112492, 0.9973455309625513, 0.9973180112498007, 0.997290500043768, 0.997262998198777, 0.997235505302969]}],\n",
       "                        {\"legend\": {\"bgcolor\": \"#F5F6F9\", \"font\": {\"color\": \"#4D5663\"}}, \"paper_bgcolor\": \"#F5F6F9\", \"plot_bgcolor\": \"#F5F6F9\", \"title\": {\"font\": {\"color\": \"#4D5663\"}, \"text\": \"Rela\\u00e7\\u00e3o entre a Press\\u00e3o e o Fator de Compressiblidade em V\\u00eanus\"}, \"xaxis\": {\"gridcolor\": \"#E1E5ED\", \"showgrid\": true, \"tickfont\": {\"color\": \"#4D5663\"}, \"title\": {\"font\": {\"color\": \"#4D5663\"}, \"text\": \"Pressure\"}, \"zerolinecolor\": \"#E1E5ED\"}, \"yaxis\": {\"gridcolor\": \"#E1E5ED\", \"showgrid\": true, \"tickfont\": {\"color\": \"#4D5663\"}, \"title\": {\"font\": {\"color\": \"#4D5663\"}, \"text\": \"Fator de Compressibilidade\"}, \"zerolinecolor\": \"#E1E5ED\"}},\n",
       "                        {\"showLink\": true, \"linkText\": \"Export to plot.ly\", \"plotlyServerURL\": \"https://plot.ly\", \"responsive\": true}\n",
       "                    ).then(function(){\n",
       "                            \n",
       "var gd = document.getElementById('ed5fe42b-b5f1-4779-ac81-1e26b5d817da');\n",
       "var x = new MutationObserver(function (mutations, observer) {{\n",
       "        var display = window.getComputedStyle(gd).display;\n",
       "        if (!display || display === 'none') {{\n",
       "            console.log([gd, 'removed!']);\n",
       "            Plotly.purge(gd);\n",
       "            observer.disconnect();\n",
       "        }}\n",
       "}});\n",
       "\n",
       "// Listen for the removal of the full notebook cells\n",
       "var notebookContainer = gd.closest('#notebook-container');\n",
       "if (notebookContainer) {{\n",
       "    x.observe(notebookContainer, {childList: true});\n",
       "}}\n",
       "\n",
       "// Listen for the clearing of the current output cell\n",
       "var outputEl = gd.closest('.output');\n",
       "if (outputEl) {{\n",
       "    x.observe(outputEl, {childList: true});\n",
       "}}\n",
       "\n",
       "                        })\n",
       "                };\n",
       "                });\n",
       "            </script>\n",
       "        </div>"
      ]
     },
     "metadata": {},
     "output_type": "display_data"
    }
   ],
   "source": [
    "df_venus[['Pressure', 'Z']].iplot(\n",
    "    y='Z', mode='lines+markers',\n",
    "    xTitle='Pressure', yTitle='Fator de Compressibilidade',\n",
    "    text='Pressure', title='Relação entre a Pressão e o Fator de Compressiblidade em Vênus')"
   ]
  }
 ],
 "metadata": {
  "kernelspec": {
   "display_name": "Python 3",
   "language": "python",
   "name": "python3"
  },
  "language_info": {
   "codemirror_mode": {
    "name": "ipython",
    "version": 3
   },
   "file_extension": ".py",
   "mimetype": "text/x-python",
   "name": "python",
   "nbconvert_exporter": "python",
   "pygments_lexer": "ipython3",
   "version": "3.7.4"
  }
 },
 "nbformat": 4,
 "nbformat_minor": 4
}
